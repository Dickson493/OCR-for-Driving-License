{
 "cells": [
  {
   "cell_type": "code",
   "execution_count": 1,
   "id": "ba2c705a",
   "metadata": {},
   "outputs": [],
   "source": [
    "#!pip install pdf2image\n",
    "#!pip install poppler-utils\n",
    "#!pip install easyocr\n",
    "#!pip install fuzzywuzzy \n",
    "#pip install easyocr\n",
    "#!pip install opencv-python-headless==4.3.0.38\n",
    "#!pip uninstall opencv-python-headless\n",
    "#!pip install opencv-python==4.5.4.60"
   ]
  },
  {
   "cell_type": "code",
   "execution_count": 2,
   "id": "af57465e",
   "metadata": {},
   "outputs": [
    {
     "name": "stderr",
     "output_type": "stream",
     "text": [
      "C:\\Users\\Acer\\anaconda4\\lib\\site-packages\\fuzzywuzzy\\fuzz.py:11: UserWarning: Using slow pure-python SequenceMatcher. Install python-Levenshtein to remove this warning\n",
      "  warnings.warn('Using slow pure-python SequenceMatcher. Install python-Levenshtein to remove this warning')\n"
     ]
    }
   ],
   "source": [
    "import pandas as pd\n",
    "import numpy as np\n",
    "import cv2\n",
    "import easyocr\n",
    "import matplotlib.pyplot as plt\n",
    "from pdf2image import convert_from_path\n",
    "import re\n",
    "from fuzzywuzzy import fuzz,process\n",
    "from PIL import Image\n",
    "import warnings\n",
    "warnings.filterwarnings('ignore')\n",
    "from datetime import datetime"
   ]
  },
  {
   "cell_type": "code",
   "execution_count": 3,
   "id": "7926368b",
   "metadata": {},
   "outputs": [
    {
     "name": "stderr",
     "output_type": "stream",
     "text": [
      "CUDA not available - defaulting to CPU. Note: This module is much faster with a GPU.\n"
     ]
    },
    {
     "data": {
      "text/plain": [
       "<easyocr.easyocr.Reader at 0x1c9c7671d00>"
      ]
     },
     "execution_count": 3,
     "metadata": {},
     "output_type": "execute_result"
    }
   ],
   "source": [
    "reader=easyocr.Reader(['en'])\n",
    "reader"
   ]
  },
  {
   "cell_type": "code",
   "execution_count": 4,
   "id": "69d90f22",
   "metadata": {},
   "outputs": [],
   "source": [
    "img=cv2.imread(r\"C:\\Users\\Acer\\Cloudstrat\\OCR Driving License\\DL (Indian & Foreign)\\Indian Driving license\\DL 5.jpeg\")\n",
    "img=cv2.resize(img,(720,480))\n",
    "cv2.imshow(\"image\",img)\n",
    "cv2.waitKey(0)\n",
    "cv2.destroyAllWindows()"
   ]
  },
  {
   "cell_type": "code",
   "execution_count": 5,
   "id": "e1e019f2",
   "metadata": {},
   "outputs": [
    {
     "name": "stdout",
     "output_type": "stream",
     "text": [
      "Height= 480\n",
      "Width= 720\n",
      "Channel= 3\n"
     ]
    }
   ],
   "source": [
    "Height,Width,Channel=img.shape\n",
    "print('Height=',Height)\n",
    "print('Width=',Width)\n",
    "print('Channel=',Channel)"
   ]
  },
  {
   "cell_type": "code",
   "execution_count": 6,
   "id": "416d70e9",
   "metadata": {},
   "outputs": [
    {
     "data": {
      "text/plain": [
       "[([[253, 0], [443, 0], [443, 17], [253, 17]],\n",
       "  'TNe JNIJN UFNDIA',\n",
       "  0.019337312912112173),\n",
       " ([[114, 16], [578, 16], [578, 46], [114, 46]],\n",
       "  'MAHARASHTRA STATE MOTOR DRIVING LICENCE',\n",
       "  0.7949915613179126),\n",
       " ([[116, 42], [324, 42], [324, 68], [116, 68]],\n",
       "  'DL No MH:1220050000188',\n",
       "  0.7643995825621454),\n",
       " ([[404, 44], [520, 44], [520, 72], [404, 72]],\n",
       "  'ID . 12-12-2005',\n",
       "  0.5313595535169602),\n",
       " ([[116, 64], [380, 64], [380, 92], [116, 92]],\n",
       "  'Valid Till : 11-12-2025 (Non Trans)',\n",
       "  0.765577352634551),\n",
       " ([[314, 88], [388, 88], [388, 116], [314, 116]],\n",
       "  '(Inv Crg)',\n",
       "  0.9156098649011413),\n",
       " ([[565, 87], [647, 87], [647, 131], [565, 131]],\n",
       "  'FOEH%q)',\n",
       "  0.06598360996954089),\n",
       " ([[218, 114], [524, 114], [524, 138], [218, 138]],\n",
       "  'AUTHORISATION TO DRIVE FOLLOWING CLASS',\n",
       "  0.7108878257404989),\n",
       " ([[220, 132], [444, 132], [444, 156], [220, 156]],\n",
       "  'Of VEHICLES THROUGHOUT INDIA',\n",
       "  0.6628576070055883),\n",
       " ([[232, 154], [276, 154], [276, 180], [232, 180]], 'COv', 0.595781477544585),\n",
       " ([[312, 154], [338, 154], [338, 178], [312, 178]], 'ID', 0.9612822050184514),\n",
       " ([[222, 178], [280, 178], [280, 202], [222, 202]],\n",
       "  'MCWG',\n",
       "  0.7770726680755615),\n",
       " ([[294, 178], [378, 178], [378, 202], [294, 202]],\n",
       "  '12-12-2005',\n",
       "  0.7949360238101539),\n",
       " ([[225, 261], [290, 261], [290, 291], [225, 291]],\n",
       "  'Badget',\n",
       "  0.9980447145662973),\n",
       " ([[396, 262], [422, 262], [422, 288], [396, 288]], 'ID', 0.990516276310328),\n",
       " ([[226, 284], [270, 284], [270, 310], [226, 310]], 'DOB', 0.9961502754629853),\n",
       " ([[287, 285], [375, 285], [375, 309], [287, 309]],\n",
       "  '12-05-1986',\n",
       "  0.9939956079076001),\n",
       " ([[398, 286], [430, 286], [430, 310], [398, 310]], 'BG', 0.9977944940996334),\n",
       " ([[440, 286], [476, 286], [476, 312], [440, 312]], 'Not', 0.9997412893715442),\n",
       " ([[54, 312], [104, 312], [104, 336], [54, 336]], 'WName', 0.4107923996682347),\n",
       " ([[120, 314], [276, 314], [276, 338], [120, 338]],\n",
       "  'POOJA M PALANDE',\n",
       "  0.9473928534537047),\n",
       " ([[54, 334], [264, 334], [264, 362], [54, 362]],\n",
       "  'S@DN of MILIND PALANDE',\n",
       "  0.27988550871931517),\n",
       " ([[54, 358], [344, 358], [344, 386], [54, 386]],\n",
       "  'Add S NO . 32/14 A3 , AMBEGAON BK ,',\n",
       "  0.6570060966422822),\n",
       " ([[52, 380], [294, 380], [294, 406], [52, 406]],\n",
       "  'BHARTI VIDYAPEETH BACKSIDE',\n",
       "  0.8621523310726311),\n",
       " ([[52, 400], [100, 400], [100, 426], [52, 426]], 'PUNe', 0.21843624114990234),\n",
       " ([[54, 422], [146, 422], [146, 448], [54, 448]],\n",
       "  'Pin . 411046',\n",
       "  0.354871042048044),\n",
       " ([[52, 444], [188, 444], [188, 474], [52, 474]],\n",
       "  'Signalure & ID of',\n",
       "  0.905460033030396),\n",
       " ([[489, 445], [626, 445], [626, 475], [489, 475]],\n",
       "  'SignaturefThumb',\n",
       "  0.5105318184286903),\n",
       " ([[60, 470], [184, 470], [184, 478], [60, 478]],\n",
       "  'Cce',\n",
       "  0.0013576188519128245),\n",
       " ([[191, 470], [285, 470], [285, 478], [191, 478]],\n",
       "  'UAOnnac',\n",
       "  0.0003187719303480297),\n",
       " ([[600, 470], [646, 470], [646, 478], [600, 478]], '', 0.0)]"
      ]
     },
     "execution_count": 6,
     "metadata": {},
     "output_type": "execute_result"
    }
   ],
   "source": [
    "output=reader.readtext(img)\n",
    "output"
   ]
  },
  {
   "cell_type": "code",
   "execution_count": 7,
   "id": "7cfd6441",
   "metadata": {},
   "outputs": [
    {
     "data": {
      "text/plain": [
       "[([[253, 0], [443, 0], [443, 17], [253, 17]], '4291861', 0.02840441639712725),\n",
       " ([[114, 16], [578, 16], [578, 46], [114, 46]],\n",
       "  '5444845418451412801030353644236',\n",
       "  0.012941644218854088),\n",
       " ([[116, 42], [324, 42], [324, 68], [116, 68]],\n",
       "  '00641220050000188',\n",
       "  0.4198274889018701),\n",
       " ([[404, 44], [520, 44], [520, 72], [404, 72]],\n",
       "  '10122122005',\n",
       "  0.3917587198277839),\n",
       " ([[116, 64], [380, 64], [380, 92], [116, 92]],\n",
       "  '3951101222025785',\n",
       "  0.08606184468159826),\n",
       " ([[314, 88], [388, 88], [388, 116], [314, 116]],\n",
       "  '71692',\n",
       "  0.12554697177870627),\n",
       " ([[565, 87], [647, 87], [647, 131], [565, 131]],\n",
       "  '588809',\n",
       "  0.1849660997313617),\n",
       " ([[218, 114], [524, 114], [524, 138], [218, 138]],\n",
       "  '481315473100316067455',\n",
       "  0.05670939728601803),\n",
       " ([[220, 132], [444, 132], [444, 156], [220, 156]],\n",
       "  '051457430864081134',\n",
       "  0.007278035609598759),\n",
       " ([[232, 154], [276, 154], [276, 180], [232, 180]], '11', 0.08463643836475591),\n",
       " ([[312, 154], [338, 154], [338, 178], [312, 178]], '10', 0.7064156274689537),\n",
       " ([[222, 178], [280, 178], [280, 202], [222, 202]],\n",
       "  '116',\n",
       "  0.06811212114272958),\n",
       " ([[294, 178], [378, 178], [378, 202], [294, 202]],\n",
       "  '122122005',\n",
       "  0.6905515192022492),\n",
       " ([[225, 261], [290, 261], [290, 291], [225, 291]], '8921', 0.372433602809906),\n",
       " ([[396, 262], [422, 262], [422, 288], [396, 288]], '10', 0.8959616070374085),\n",
       " ([[226, 284], [270, 284], [270, 310], [226, 310]], '008', 0.2642178047146188),\n",
       " ([[287, 285], [375, 285], [375, 309], [287, 309]],\n",
       "  '120511986',\n",
       "  0.8177560074338148),\n",
       " ([[398, 286], [430, 286], [430, 310], [398, 310]], '86', 0.9893185670721275),\n",
       " ([[440, 286], [476, 286], [476, 312], [440, 312]], '3', 0.04864235537769801),\n",
       " ([[54, 312], [104, 312], [104, 336], [54, 336]], '', 0.0),\n",
       " ([[120, 314], [276, 314], [276, 338], [120, 338]],\n",
       "  '23412440',\n",
       "  0.021188447417431356),\n",
       " ([[54, 334], [264, 334], [264, 362], [54, 362]],\n",
       "  '5102445',\n",
       "  0.06917080663782314),\n",
       " ([[54, 358], [344, 358], [344, 386], [54, 386]],\n",
       "  '950043271443486405869',\n",
       "  0.08113739570313595),\n",
       " ([[52, 380], [294, 380], [294, 406], [52, 406]],\n",
       "  '844871509446484765',\n",
       "  0.019796171264901883),\n",
       " ([[52, 400], [100, 400], [100, 426], [52, 426]], '205', 0.08905798780265418),\n",
       " ([[54, 422], [146, 422], [146, 448], [54, 448]],\n",
       "  '1411046',\n",
       "  0.6575750042582039),\n",
       " ([[52, 444], [188, 444], [188, 474], [52, 474]],\n",
       "  '81948100',\n",
       "  0.3185713089263605),\n",
       " ([[489, 445], [626, 445], [626, 475], [489, 475]],\n",
       "  '81949146',\n",
       "  0.13760350020132106),\n",
       " ([[60, 470], [184, 470], [184, 478], [60, 478]], '27', 0.09862894342694047),\n",
       " ([[191, 470], [285, 470], [285, 478], [191, 478]], '92', 0.08427140412706023),\n",
       " ([[600, 470], [646, 470], [646, 478], [600, 478]], '', 0.0)]"
      ]
     },
     "execution_count": 7,
     "metadata": {},
     "output_type": "execute_result"
    }
   ],
   "source": [
    "output1 = reader.readtext(img, allowlist ='0123456789')\n",
    "output1"
   ]
  },
  {
   "cell_type": "code",
   "execution_count": 8,
   "id": "41aa0f28",
   "metadata": {},
   "outputs": [
    {
     "name": "stdout",
     "output_type": "stream",
     "text": [
      "TNe JNIJN UFNDIA\n",
      "MAHARASHTRA STATE MOTOR DRIVING LICENCE\n",
      "DL No MH:1220050000188\n",
      "ID . 12-12-2005\n",
      "Valid Till : 11-12-2025 (Non Trans)\n",
      "(Inv Crg)\n",
      "FOEH%q)\n",
      "AUTHORISATION TO DRIVE FOLLOWING CLASS\n",
      "Of VEHICLES THROUGHOUT INDIA\n",
      "COv\n",
      "ID\n",
      "MCWG\n",
      "12-12-2005\n",
      "Badget\n",
      "ID\n",
      "DOB\n",
      "12-05-1986\n",
      "BG\n",
      "Not\n",
      "WName\n",
      "POOJA M PALANDE\n",
      "S@DN of MILIND PALANDE\n",
      "Add S NO . 32/14 A3 , AMBEGAON BK ,\n",
      "BHARTI VIDYAPEETH BACKSIDE\n",
      "PUNe\n",
      "Pin . 411046\n",
      "Signalure & ID of\n",
      "SignaturefThumb\n",
      "Cce\n",
      "UAOnnac\n",
      "\n"
     ]
    }
   ],
   "source": [
    "for i in range(len(output)):\n",
    "  result=output[i][-2]\n",
    "  print(result)"
   ]
  },
  {
   "cell_type": "code",
   "execution_count": 9,
   "id": "89056752",
   "metadata": {},
   "outputs": [
    {
     "name": "stdout",
     "output_type": "stream",
     "text": [
      "4291861\n",
      "5444845418451412801030353644236\n",
      "00641220050000188\n",
      "10122122005\n",
      "3951101222025785\n",
      "71692\n",
      "588809\n",
      "481315473100316067455\n",
      "051457430864081134\n",
      "11\n",
      "10\n",
      "116\n",
      "122122005\n",
      "8921\n",
      "10\n",
      "008\n",
      "120511986\n",
      "86\n",
      "3\n",
      "\n",
      "23412440\n",
      "5102445\n",
      "950043271443486405869\n",
      "844871509446484765\n",
      "205\n",
      "1411046\n",
      "81948100\n",
      "81949146\n",
      "27\n",
      "92\n",
      "\n"
     ]
    }
   ],
   "source": [
    "for i in range(len(output1)):\n",
    "  result1=output1[i][-2]\n",
    "  print(result1)"
   ]
  },
  {
   "cell_type": "code",
   "execution_count": 10,
   "id": "d61acba8",
   "metadata": {},
   "outputs": [
    {
     "data": {
      "text/html": [
       "<div>\n",
       "<style scoped>\n",
       "    .dataframe tbody tr th:only-of-type {\n",
       "        vertical-align: middle;\n",
       "    }\n",
       "\n",
       "    .dataframe tbody tr th {\n",
       "        vertical-align: top;\n",
       "    }\n",
       "\n",
       "    .dataframe thead th {\n",
       "        text-align: right;\n",
       "    }\n",
       "</style>\n",
       "<table border=\"1\" class=\"dataframe\">\n",
       "  <thead>\n",
       "    <tr style=\"text-align: right;\">\n",
       "      <th></th>\n",
       "      <th>Text</th>\n",
       "    </tr>\n",
       "  </thead>\n",
       "  <tbody>\n",
       "    <tr>\n",
       "      <th>0</th>\n",
       "      <td>TNe JNIJN UFNDIA</td>\n",
       "    </tr>\n",
       "    <tr>\n",
       "      <th>1</th>\n",
       "      <td>MAHARASHTRA STATE MOTOR DRIVING LICENCE</td>\n",
       "    </tr>\n",
       "    <tr>\n",
       "      <th>2</th>\n",
       "      <td>DL No MH:1220050000188</td>\n",
       "    </tr>\n",
       "    <tr>\n",
       "      <th>3</th>\n",
       "      <td>ID . 12-12-2005</td>\n",
       "    </tr>\n",
       "    <tr>\n",
       "      <th>4</th>\n",
       "      <td>Valid Till : 11-12-2025 (Non Trans)</td>\n",
       "    </tr>\n",
       "    <tr>\n",
       "      <th>5</th>\n",
       "      <td>(Inv Crg)</td>\n",
       "    </tr>\n",
       "    <tr>\n",
       "      <th>6</th>\n",
       "      <td>FOEH%q)</td>\n",
       "    </tr>\n",
       "    <tr>\n",
       "      <th>7</th>\n",
       "      <td>AUTHORISATION TO DRIVE FOLLOWING CLASS</td>\n",
       "    </tr>\n",
       "    <tr>\n",
       "      <th>8</th>\n",
       "      <td>Of VEHICLES THROUGHOUT INDIA</td>\n",
       "    </tr>\n",
       "    <tr>\n",
       "      <th>9</th>\n",
       "      <td>COv</td>\n",
       "    </tr>\n",
       "    <tr>\n",
       "      <th>10</th>\n",
       "      <td>ID</td>\n",
       "    </tr>\n",
       "    <tr>\n",
       "      <th>11</th>\n",
       "      <td>MCWG</td>\n",
       "    </tr>\n",
       "    <tr>\n",
       "      <th>12</th>\n",
       "      <td>12-12-2005</td>\n",
       "    </tr>\n",
       "    <tr>\n",
       "      <th>13</th>\n",
       "      <td>Badget</td>\n",
       "    </tr>\n",
       "    <tr>\n",
       "      <th>14</th>\n",
       "      <td>ID</td>\n",
       "    </tr>\n",
       "    <tr>\n",
       "      <th>15</th>\n",
       "      <td>DOB</td>\n",
       "    </tr>\n",
       "    <tr>\n",
       "      <th>16</th>\n",
       "      <td>12-05-1986</td>\n",
       "    </tr>\n",
       "    <tr>\n",
       "      <th>17</th>\n",
       "      <td>BG</td>\n",
       "    </tr>\n",
       "    <tr>\n",
       "      <th>18</th>\n",
       "      <td>Not</td>\n",
       "    </tr>\n",
       "    <tr>\n",
       "      <th>19</th>\n",
       "      <td>WName</td>\n",
       "    </tr>\n",
       "    <tr>\n",
       "      <th>20</th>\n",
       "      <td>POOJA M PALANDE</td>\n",
       "    </tr>\n",
       "    <tr>\n",
       "      <th>21</th>\n",
       "      <td>S@DN of MILIND PALANDE</td>\n",
       "    </tr>\n",
       "    <tr>\n",
       "      <th>22</th>\n",
       "      <td>Add S NO . 32/14 A3 , AMBEGAON BK ,</td>\n",
       "    </tr>\n",
       "    <tr>\n",
       "      <th>23</th>\n",
       "      <td>BHARTI VIDYAPEETH BACKSIDE</td>\n",
       "    </tr>\n",
       "    <tr>\n",
       "      <th>24</th>\n",
       "      <td>PUNe</td>\n",
       "    </tr>\n",
       "    <tr>\n",
       "      <th>25</th>\n",
       "      <td>Pin . 411046</td>\n",
       "    </tr>\n",
       "    <tr>\n",
       "      <th>26</th>\n",
       "      <td>Signalure &amp; ID of</td>\n",
       "    </tr>\n",
       "    <tr>\n",
       "      <th>27</th>\n",
       "      <td>SignaturefThumb</td>\n",
       "    </tr>\n",
       "    <tr>\n",
       "      <th>28</th>\n",
       "      <td>Cce</td>\n",
       "    </tr>\n",
       "    <tr>\n",
       "      <th>29</th>\n",
       "      <td>UAOnnac</td>\n",
       "    </tr>\n",
       "    <tr>\n",
       "      <th>30</th>\n",
       "      <td></td>\n",
       "    </tr>\n",
       "  </tbody>\n",
       "</table>\n",
       "</div>"
      ],
      "text/plain": [
       "                                       Text\n",
       "0                          TNe JNIJN UFNDIA\n",
       "1   MAHARASHTRA STATE MOTOR DRIVING LICENCE\n",
       "2                    DL No MH:1220050000188\n",
       "3                           ID . 12-12-2005\n",
       "4       Valid Till : 11-12-2025 (Non Trans)\n",
       "5                                 (Inv Crg)\n",
       "6                                   FOEH%q)\n",
       "7    AUTHORISATION TO DRIVE FOLLOWING CLASS\n",
       "8              Of VEHICLES THROUGHOUT INDIA\n",
       "9                                       COv\n",
       "10                                       ID\n",
       "11                                     MCWG\n",
       "12                               12-12-2005\n",
       "13                                   Badget\n",
       "14                                       ID\n",
       "15                                      DOB\n",
       "16                               12-05-1986\n",
       "17                                       BG\n",
       "18                                      Not\n",
       "19                                    WName\n",
       "20                          POOJA M PALANDE\n",
       "21                   S@DN of MILIND PALANDE\n",
       "22      Add S NO . 32/14 A3 , AMBEGAON BK ,\n",
       "23               BHARTI VIDYAPEETH BACKSIDE\n",
       "24                                     PUNe\n",
       "25                             Pin . 411046\n",
       "26                        Signalure & ID of\n",
       "27                          SignaturefThumb\n",
       "28                                      Cce\n",
       "29                                  UAOnnac\n",
       "30                                         "
      ]
     },
     "execution_count": 10,
     "metadata": {},
     "output_type": "execute_result"
    }
   ],
   "source": [
    "df1=pd.DataFrame(output)\n",
    "Extract_text=pd.DataFrame(df1[1])\n",
    "Extract_text.columns=['Text']\n",
    "Extract_text"
   ]
  },
  {
   "cell_type": "code",
   "execution_count": 11,
   "id": "0a65783f",
   "metadata": {},
   "outputs": [
    {
     "data": {
      "text/html": [
       "<div>\n",
       "<style scoped>\n",
       "    .dataframe tbody tr th:only-of-type {\n",
       "        vertical-align: middle;\n",
       "    }\n",
       "\n",
       "    .dataframe tbody tr th {\n",
       "        vertical-align: top;\n",
       "    }\n",
       "\n",
       "    .dataframe thead th {\n",
       "        text-align: right;\n",
       "    }\n",
       "</style>\n",
       "<table border=\"1\" class=\"dataframe\">\n",
       "  <thead>\n",
       "    <tr style=\"text-align: right;\">\n",
       "      <th></th>\n",
       "      <th>Number</th>\n",
       "    </tr>\n",
       "  </thead>\n",
       "  <tbody>\n",
       "    <tr>\n",
       "      <th>0</th>\n",
       "      <td>4291861</td>\n",
       "    </tr>\n",
       "    <tr>\n",
       "      <th>1</th>\n",
       "      <td>5444845418451412801030353644236</td>\n",
       "    </tr>\n",
       "    <tr>\n",
       "      <th>2</th>\n",
       "      <td>00641220050000188</td>\n",
       "    </tr>\n",
       "    <tr>\n",
       "      <th>3</th>\n",
       "      <td>10122122005</td>\n",
       "    </tr>\n",
       "    <tr>\n",
       "      <th>4</th>\n",
       "      <td>3951101222025785</td>\n",
       "    </tr>\n",
       "    <tr>\n",
       "      <th>5</th>\n",
       "      <td>71692</td>\n",
       "    </tr>\n",
       "    <tr>\n",
       "      <th>6</th>\n",
       "      <td>588809</td>\n",
       "    </tr>\n",
       "    <tr>\n",
       "      <th>7</th>\n",
       "      <td>481315473100316067455</td>\n",
       "    </tr>\n",
       "    <tr>\n",
       "      <th>8</th>\n",
       "      <td>051457430864081134</td>\n",
       "    </tr>\n",
       "    <tr>\n",
       "      <th>9</th>\n",
       "      <td>11</td>\n",
       "    </tr>\n",
       "    <tr>\n",
       "      <th>10</th>\n",
       "      <td>10</td>\n",
       "    </tr>\n",
       "    <tr>\n",
       "      <th>11</th>\n",
       "      <td>116</td>\n",
       "    </tr>\n",
       "    <tr>\n",
       "      <th>12</th>\n",
       "      <td>122122005</td>\n",
       "    </tr>\n",
       "    <tr>\n",
       "      <th>13</th>\n",
       "      <td>8921</td>\n",
       "    </tr>\n",
       "    <tr>\n",
       "      <th>14</th>\n",
       "      <td>10</td>\n",
       "    </tr>\n",
       "    <tr>\n",
       "      <th>15</th>\n",
       "      <td>008</td>\n",
       "    </tr>\n",
       "    <tr>\n",
       "      <th>16</th>\n",
       "      <td>120511986</td>\n",
       "    </tr>\n",
       "    <tr>\n",
       "      <th>17</th>\n",
       "      <td>86</td>\n",
       "    </tr>\n",
       "    <tr>\n",
       "      <th>18</th>\n",
       "      <td>3</td>\n",
       "    </tr>\n",
       "    <tr>\n",
       "      <th>19</th>\n",
       "      <td></td>\n",
       "    </tr>\n",
       "    <tr>\n",
       "      <th>20</th>\n",
       "      <td>23412440</td>\n",
       "    </tr>\n",
       "    <tr>\n",
       "      <th>21</th>\n",
       "      <td>5102445</td>\n",
       "    </tr>\n",
       "    <tr>\n",
       "      <th>22</th>\n",
       "      <td>950043271443486405869</td>\n",
       "    </tr>\n",
       "    <tr>\n",
       "      <th>23</th>\n",
       "      <td>844871509446484765</td>\n",
       "    </tr>\n",
       "    <tr>\n",
       "      <th>24</th>\n",
       "      <td>205</td>\n",
       "    </tr>\n",
       "    <tr>\n",
       "      <th>25</th>\n",
       "      <td>1411046</td>\n",
       "    </tr>\n",
       "    <tr>\n",
       "      <th>26</th>\n",
       "      <td>81948100</td>\n",
       "    </tr>\n",
       "    <tr>\n",
       "      <th>27</th>\n",
       "      <td>81949146</td>\n",
       "    </tr>\n",
       "    <tr>\n",
       "      <th>28</th>\n",
       "      <td>27</td>\n",
       "    </tr>\n",
       "    <tr>\n",
       "      <th>29</th>\n",
       "      <td>92</td>\n",
       "    </tr>\n",
       "    <tr>\n",
       "      <th>30</th>\n",
       "      <td></td>\n",
       "    </tr>\n",
       "  </tbody>\n",
       "</table>\n",
       "</div>"
      ],
      "text/plain": [
       "                             Number\n",
       "0                           4291861\n",
       "1   5444845418451412801030353644236\n",
       "2                 00641220050000188\n",
       "3                       10122122005\n",
       "4                  3951101222025785\n",
       "5                             71692\n",
       "6                            588809\n",
       "7             481315473100316067455\n",
       "8                051457430864081134\n",
       "9                                11\n",
       "10                               10\n",
       "11                              116\n",
       "12                        122122005\n",
       "13                             8921\n",
       "14                               10\n",
       "15                              008\n",
       "16                        120511986\n",
       "17                               86\n",
       "18                                3\n",
       "19                                 \n",
       "20                         23412440\n",
       "21                          5102445\n",
       "22            950043271443486405869\n",
       "23               844871509446484765\n",
       "24                              205\n",
       "25                          1411046\n",
       "26                         81948100\n",
       "27                         81949146\n",
       "28                               27\n",
       "29                               92\n",
       "30                                 "
      ]
     },
     "execution_count": 11,
     "metadata": {},
     "output_type": "execute_result"
    }
   ],
   "source": [
    "df2=pd.DataFrame(output1)\n",
    "Extract_text1=pd.DataFrame(df2[1])\n",
    "Extract_text1.columns=['Number']\n",
    "Extract_text1"
   ]
  },
  {
   "cell_type": "markdown",
   "id": "321abbfe",
   "metadata": {},
   "source": [
    "# Driving License"
   ]
  },
  {
   "cell_type": "code",
   "execution_count": 12,
   "id": "d47e69c8",
   "metadata": {},
   "outputs": [],
   "source": [
    "pattern=['[A-Za-z]{2}:\\d{13}','[A-Za-z]{2}\\d{13}','[A-Za-z]{3}\\d{1} \\d{11}', '[A-Za-z]{2}\\d{2} \\d{11}','[A-Za-z]{2}-\\d{13}','[A-Za-z]{2}\\d{2} \\d{11}','[A-Za-z]{2}\\d{2} \\d{11}']\n",
    "DL10=[]\n",
    "Dl=[]\n",
    "for pat in pattern:\n",
    "    for element in Extract_text['Text']:\n",
    "            if re.findall(pat,element):\n",
    "                try:\n",
    "                    DL1=(element.split('No'))\n",
    "                    if len(DL1)>0:\n",
    "                        DL10.append(DL1[1])\n",
    "                except:\n",
    "                    DL1=(element.split('NO'))\n",
    "                    if len(DL10)>0:\n",
    "                        DL10.append(DL1[1])\n",
    "\n",
    "\n",
    "if len(DL10)==0:\n",
    "    row=Extract_text[Extract_text['Text']=='DNo'].index\n",
    "    row2=Extract_text[Extract_text['Text']=='DL No'].index\n",
    "    row3=Extract_text[Extract_text['Text']=='DL #e'].index\n",
    "    if Extract_text[Extract_text['Text']=='DNo'].index==row:\n",
    "        rnum=row[0]\n",
    "        rownumb=rnum+1\n",
    "        DL1=Extract_text.iloc[rownumb,0]\n",
    "       # DL1=DL.split('/')\n",
    "        DL10.append(DL1)\n",
    "    elif Extract_text[Extract_text['Text']=='DL No'].index==row2:\n",
    "        rnum=row2[0]\n",
    "        rownumb=rnum+1\n",
    "        DL2=Extract_text.iloc[rownumb,0]\n",
    "       # DL2=DL.split('/')\n",
    "        DL10.append(DL2)\n",
    "    elif Extract_text[Extract_text['Text']=='DL #e'].index==row3:\n",
    "        rnum=row3[0]\n",
    "        rownumb=rnum+1\n",
    "        DL3=Extract_text.iloc[rownumb,0]\n",
    "       # DL3=DL.split('/')\n",
    "        DL10.append(DL3)\n",
    "DL10=np.unique(DL10).tolist()"
   ]
  },
  {
   "cell_type": "markdown",
   "id": "1c44c3c1",
   "metadata": {},
   "source": [
    "# Date of Issue"
   ]
  },
  {
   "cell_type": "code",
   "execution_count": 13,
   "id": "7dc912a1",
   "metadata": {},
   "outputs": [
    {
     "name": "stdout",
     "output_type": "stream",
     "text": [
      "[' 12-12-2005']\n"
     ]
    }
   ],
   "source": [
    "DOI1=[]\n",
    "for i in Extract_text['Text']:\n",
    "    if i.startswith('DOI'):\n",
    "        doi_as=i.split(';')\n",
    "        try:\n",
    "            doi=doi_as[1]\n",
    "        except:\n",
    "            pass\n",
    "    if i.startswith('DOI'):\n",
    "        if ';' in i:\n",
    "            doi_as=i.split(';')\n",
    "            doi=doi_as[1]\n",
    "            DOI1.append(doi)\n",
    "        if ':' in i:\n",
    "            doi_as=i.split(':')\n",
    "            doi=doi_as[1]\n",
    "            DOI1.append(doi)\n",
    "    if i.startswith('DSi'):\n",
    "        if ' ' in i:\n",
    "            doi_as=i.split(' ')\n",
    "            doi=doi_as[2]\n",
    "            DOI1.append(doi)\n",
    "    if i.startswith('Doi'):\n",
    "        if ';' in i:\n",
    "            doi_as=i.split(';')\n",
    "            doi=doi_as[1]\n",
    "            DOI1.append(doi)\n",
    "    if i.startswith('ID'):\n",
    "        if '.' in i:\n",
    "            doi_as=i.split('.')\n",
    "            doi=doi_as[1]\n",
    "            DOI1.append(doi)\n",
    "    if i.startswith('DoI'):\n",
    "        if ' ' in i:\n",
    "            doi_as=i.split(' ')\n",
    "            doi=doi_as[1]\n",
    "            DOI1.append(doi)\n",
    "\n",
    "          \n",
    "if len(DOI1)==0:\n",
    "    \n",
    "\n",
    "    rowDOI=Extract_text[Extract_text['Text']=='DOI'].index\n",
    "    rowDOI2=Extract_text[Extract_text['Text']=='DoI'].index\n",
    "    rowDOI3=Extract_text[Extract_text['Text']=='Do'].index\n",
    "    rowDOI4=Extract_text[Extract_text['Text']=='LCI'].index\n",
    "    rowDOI5=Extract_text[Extract_text['Text']=='Doi'].index\n",
    "    if len(rowDOI)!=0:\n",
    "\n",
    "        if rowDOI[0]==rowDOI[0]:\n",
    "            rownumber=rowDOI[0]\n",
    "            rownumDOI=rownumber+1\n",
    "            DOI=Extract_text.iloc[rownumDOI,0]\n",
    "            #DOI=DOI.split('/')\n",
    "            DOI1.append(DOI)   \n",
    "    if len(rowDOI2)!=0:\n",
    "        print('hey')\n",
    "        if rowDOI2[0]==rowDOI2[0]:\n",
    "            rownumber=rowDOI2[0]\n",
    "            rownumDOI2=rownumber+1\n",
    "            DOI=Extract_text.iloc[rownumDOI2,0]\n",
    "           # DOI=DOI.split('/')\n",
    "            DOI1.append(DOI)\n",
    "#         if str(DOI1[0][0]).isalpha():\n",
    "#             pass\n",
    "#         else:\n",
    "#             print(DOI1)\n",
    "    if len(rowDOI3)!=0:\n",
    "        if rowDOI3[0]==rowDOI3[0]:\n",
    "            rownumber=rowDOI3[0]\n",
    "            rownumDOI3=rownumber+1\n",
    "            DOI=Extract_text.iloc[rownumDOI3,0]\n",
    "           # print(DOI)\n",
    "       # DOI=DOI.split('/')\n",
    "            DOI1.append(DOI)\n",
    "        #print(DOI1[1])\n",
    "    if len(rowDOI4)!=0:\n",
    "        if rowDOI4[0]==rowDOI4[0]:\n",
    "            rownumber=rowDOI4[0]\n",
    "            rownumDOI4=rownumber+1\n",
    "            DOI=Extract_text.iloc[rownumDOI4,0]\n",
    "           # print(DOI)\n",
    "       # DOI=DOI.split('/')\n",
    "            DOI1.append(DOI)\n",
    "    if len(rowDOI5)!=0:\n",
    "        if rowDOI5[0]==rowDOI5[0]:\n",
    "            rownumber=rowDOI5[0]\n",
    "            rownumDOI5=rownumber+1\n",
    "            DOI=Extract_text.iloc[rownumDOI5,0]\n",
    "            DOI1.append(DOI)\n",
    "\n",
    "DOI1=[i for i in DOI1 if not i.isalnum()]\n",
    "for i in DOI1:\n",
    "    if i.endswith('(TR)'):\n",
    "        DOI1.pop(DOI1.index(i))\n",
    "\n",
    "print(DOI1)   "
   ]
  },
  {
   "cell_type": "markdown",
   "id": "163954fe",
   "metadata": {},
   "source": [
    "# Valid Date"
   ]
  },
  {
   "cell_type": "code",
   "execution_count": 14,
   "id": "6d4e96f8",
   "metadata": {},
   "outputs": [
    {
     "name": "stdout",
     "output_type": "stream",
     "text": [
      "['11-12-2025']\n"
     ]
    }
   ],
   "source": [
    "valid_date=[]\n",
    "pattern=r'\\d{2}-\\d{2}-\\d{4}','\\d{2}.\\d{2}-\\d{4}','\\d{2}-\\d.\\d{4}'\n",
    "for i in Extract_text['Text']:\n",
    "    if i.endswith(('(NT)','(Non Trans)','INT)','(Nt)','(NT')):\n",
    "        for pa in pattern:\n",
    "            valid_date1=re.findall(pa,i)\n",
    "            if len(valid_date1)!=0:\n",
    "                valid_date.append(valid_date1)\n",
    "\n",
    "if len(valid_date)==0:\n",
    "    pass\n",
    "else:\n",
    "     for i in valid_date:\n",
    "        if len(i)==1:\n",
    "            valid_date=i\n",
    "print(valid_date)"
   ]
  },
  {
   "cell_type": "markdown",
   "id": "6c6b27a4",
   "metadata": {},
   "source": [
    "# AED Date"
   ]
  },
  {
   "cell_type": "code",
   "execution_count": 15,
   "id": "f4925537",
   "metadata": {},
   "outputs": [
    {
     "data": {
      "text/plain": [
       "[]"
      ]
     },
     "execution_count": 15,
     "metadata": {},
     "output_type": "execute_result"
    }
   ],
   "source": [
    "aed=[]\n",
    "pattern=['\\d{2}-\\d{2}-\\d{4}','\\d-\\d{2}-\\d{4}']\n",
    "for i in Extract_text['Text']:\n",
    "    if i.startswith('AED'):\n",
    "        for pat in pattern:\n",
    "            AEDD=re.findall(pat ,i)\n",
    "            if len(AEDD)!=0:\n",
    "                aed.append(AEDD)\n",
    "    elif len(aed)==0:\n",
    "        AED=Extract_text[Extract_text['Text']=='AED'].index\n",
    "        if AED!=0:\n",
    "            AED=AED[0]+1\n",
    "            AED=Extract_text.iloc[ind,0]\n",
    "            aed.append(AED)\n",
    "\n",
    "if len(aed)==0:\n",
    "    pass\n",
    "else:\n",
    "    aed=aed[0]\n",
    "    \n",
    "aed"
   ]
  },
  {
   "cell_type": "markdown",
   "id": "a72ee897",
   "metadata": {},
   "source": [
    "# DLR"
   ]
  },
  {
   "cell_type": "code",
   "execution_count": 16,
   "id": "c7f9e56d",
   "metadata": {},
   "outputs": [
    {
     "name": "stdout",
     "output_type": "stream",
     "text": [
      "[]\n"
     ]
    }
   ],
   "source": [
    "DLR=[]\n",
    "for i in Extract_text['Text']:\n",
    "    if i.startswith('DLR'):\n",
    "        DLR1=re.findall(r'\\d{2}-\\d{2}-\\d{4}',i)\n",
    "        if len(DLR1)==1:\n",
    "            DLR.append(DLR1)\n",
    "    \n",
    "ind=Extract_text[Extract_text['Text']=='DLR'].index\n",
    "if ind!=0:\n",
    "    DLR1=[Extract_text.iloc[ind[0]+1,0]]\n",
    "    DLR1=re.findall(r'\\d{2}-\\d{2}-\\d{4}',DLR1[0])\n",
    "    DLR.append(DLR1)\n",
    "print(DLR)"
   ]
  },
  {
   "cell_type": "markdown",
   "id": "e854f84c",
   "metadata": {},
   "source": [
    "# MCWG Date"
   ]
  },
  {
   "cell_type": "code",
   "execution_count": 17,
   "id": "1fce0356",
   "metadata": {},
   "outputs": [
    {
     "name": "stdout",
     "output_type": "stream",
     "text": [
      "[['12-12-2005']]\n"
     ]
    }
   ],
   "source": [
    "MCWG=[]\n",
    "for i in Extract_text['Text']:\n",
    "    if 'MCWG' in i:\n",
    "        row=Extract_text[Extract_text['Text']=='MCWG'].index\n",
    "        rnumber=row[0]\n",
    "        rownum=rnumber+1\n",
    "        global MCWG\n",
    "        MCWG2=Extract_text.iloc[rownum,0]\n",
    "        MCWG1=MCWG2.split('/')\n",
    "        MCWG.append(MCWG1)\n",
    "print(MCWG)"
   ]
  },
  {
   "cell_type": "markdown",
   "id": "2b3c317d",
   "metadata": {},
   "source": [
    "# LMV"
   ]
  },
  {
   "cell_type": "code",
   "execution_count": 18,
   "id": "68909a7b",
   "metadata": {},
   "outputs": [
    {
     "name": "stdout",
     "output_type": "stream",
     "text": [
      "[]\n"
     ]
    }
   ],
   "source": [
    "LMV=[]\n",
    "\n",
    "for i in Extract_text:\n",
    "    if 'LMV' or 'LMv' in i:\n",
    "        rowLMV=Extract_text[(Extract_text['Text']==\"LMV\") | (Extract_text['Text']==\"LMv\")].index\n",
    "        if rowLMV!=0:\n",
    "            rnumberLMV=rowLMV[0]\n",
    "            rownumLMV=rnumberLMV+1\n",
    "            LMV2=Extract_text.iloc[rownumLMV,0]\n",
    "            LMV1=LMV2.split('/')\n",
    "            if LMV1[0].isalnum():\n",
    "                pass\n",
    "            else:\n",
    "                LMV.append(LMV1)\n",
    "                \n",
    "print(LMV)"
   ]
  },
  {
   "cell_type": "markdown",
   "id": "991b16e9",
   "metadata": {},
   "source": [
    "# LMV-TR"
   ]
  },
  {
   "cell_type": "code",
   "execution_count": 19,
   "id": "57e8b561",
   "metadata": {},
   "outputs": [
    {
     "name": "stdout",
     "output_type": "stream",
     "text": [
      "[]\n"
     ]
    }
   ],
   "source": [
    "LMVKTR=[]\n",
    "for i in Extract_text['Text']:\n",
    "    if 'LMV-TR' in i:\n",
    "        rowLMVTR=Extract_text[(Extract_text['Text']=='LMV-TR') | (Extract_text['Text']=='LAV-TR')].index\n",
    "        \n",
    "        if rowLMVTR!=0:\n",
    "            rnumberLMVTR=rowLMVTR[0]\n",
    "            rownumLMVTR=rnumberLMVTR+1\n",
    "            LMVTR=Extract_text.iloc[rownumLMVTR,0]\n",
    "            LMVTR=LMVTR.split('/')\n",
    "            LMVKTR.append(LMVTR)\n",
    "print(LMVKTR)"
   ]
  },
  {
   "cell_type": "markdown",
   "id": "bbababf2",
   "metadata": {},
   "source": [
    "# Trans Date"
   ]
  },
  {
   "cell_type": "code",
   "execution_count": 20,
   "id": "5825b40c",
   "metadata": {},
   "outputs": [],
   "source": [
    "TRANS=[]\n",
    "rowTRANS=Extract_text[Extract_text['Text']=='TRANS'].index\n",
    "if rowTRANS!=0:\n",
    "    rnumberTRANS=rowTRANS[0]\n",
    "    rownumTRANS=rnumberTRANS+1\n",
    "    TRANS1=Extract_text.iloc[rownumTRANS,0]\n",
    "    TRANS.append(TRANS1)"
   ]
  },
  {
   "cell_type": "markdown",
   "id": "6876f468",
   "metadata": {},
   "source": [
    "# DOB"
   ]
  },
  {
   "cell_type": "code",
   "execution_count": 21,
   "id": "ec927f57",
   "metadata": {},
   "outputs": [
    {
     "data": {
      "text/plain": [
       "['12-05-1986']"
      ]
     },
     "execution_count": 21,
     "metadata": {},
     "output_type": "execute_result"
    }
   ],
   "source": [
    "DOB=[]\n",
    "rowDOB=Extract_text[(Extract_text['Text']=='DOB')|(Extract_text['Text']=='DCB')|(Extract_text['Text']=='DoB')].index\n",
    "if rowDOB!=0:\n",
    "    rnumberDOB=rowDOB[0]\n",
    "    rownumDOB=rnumberDOB+1\n",
    "    DOB2=Extract_text.iloc[rownumDOB,0]\n",
    "   # DOB1=DOB2.split('/')\n",
    "    DOB.append(DOB2)\n",
    "DOB"
   ]
  },
  {
   "cell_type": "markdown",
   "id": "00d86a65",
   "metadata": {},
   "source": [
    "# Name"
   ]
  },
  {
   "cell_type": "code",
   "execution_count": 22,
   "id": "53075415",
   "metadata": {},
   "outputs": [
    {
     "name": "stdout",
     "output_type": "stream",
     "text": [
      "[['POOJA M PALANDE']]\n"
     ]
    }
   ],
   "source": [
    "rowName=Extract_text[(Extract_text['Text']=='Name') | (Extract_text['Text']==\"Vame\") | (Extract_text['Text']==\"Naie\") | (Extract_text['Text']==\"WName\")].index\n",
    "Name=[]\n",
    "if rowName!=0:\n",
    "    rnumberName=rowName[0]\n",
    "    rownumName=rnumberName+1 #21\n",
    "    Name1=Extract_text.iloc[rownumName,0]\n",
    "    Name2=Name1.split('/')\n",
    "    Name.append(Name2)\n",
    "    \n",
    "print(Name)"
   ]
  },
  {
   "cell_type": "markdown",
   "id": "462d27e9",
   "metadata": {},
   "source": [
    "# S/D/W"
   ]
  },
  {
   "cell_type": "code",
   "execution_count": 23,
   "id": "49f1a3cb",
   "metadata": {},
   "outputs": [
    {
     "name": "stdout",
     "output_type": "stream",
     "text": [
      "['MILIND PALANDE']\n"
     ]
    }
   ],
   "source": [
    "SDW=[]\n",
    "j=[]\n",
    "if rowName!=0:\n",
    "    rnumberName=rowName[0]\n",
    "    rownumName=rnumberName+2 #21\n",
    "    sdw=Extract_text.iloc[rownumName,0]\n",
    "    sdw=re.split('[\" \"|:]',sdw)\n",
    "    for i in sdw:\n",
    "        #if len(re.findall(r'[A-Z]',i))>3:\n",
    "        if i.isupper() | len(re.findall(r'[A-Z]',i))>4: \n",
    "            new=i.replace('SIDN of:',\"\").replace('SIDN',\"\").replace('SIDW',\"\")\n",
    "            j.append(new)\n",
    "if \"\" in j:        \n",
    "    j.remove(\"\")\n",
    "   \n",
    "if len(j)!=0:\n",
    "    if len(j)>1:\n",
    "        SDW.append(j[0]+\" \"+j[1])\n",
    "    else:\n",
    "        SDW.append(j[0])\n",
    "\n",
    "\n",
    "        \n",
    "print(SDW)"
   ]
  },
  {
   "cell_type": "markdown",
   "id": "57a4d81c",
   "metadata": {},
   "source": [
    "# PIN"
   ]
  },
  {
   "cell_type": "code",
   "execution_count": 24,
   "id": "01370aeb",
   "metadata": {},
   "outputs": [
    {
     "name": "stdout",
     "output_type": "stream",
     "text": [
      "['411046']\n"
     ]
    }
   ],
   "source": [
    "pattern=[('[A-Za-z]{3} \\d\\d\\d\\d\\d\\d'),('[A-Za-z]{3} . \\d\\d\\d\\d\\d\\d'),(\"(?<!\\d)\\d{6}(?!\\d)\")]\n",
    "PIN=[]\n",
    "for i in Extract_text['Text'].tail(10):\n",
    "    for pat in pattern:\n",
    "        if re.findall(pat,i):\n",
    "            p=re.findall('\\d{6}',i)\n",
    "            if len(PIN)==0:\n",
    "                PIN.append(p[0])\n",
    "rowPIN=Extract_text[(Extract_text['Text']=='PIN') | (Extract_text['Text']=='Pin Code')].index\n",
    "if rowPIN!=0:\n",
    "    rnumberPIN=rowPIN[0]\n",
    "    rownumPIN=rnumberPIN+1\n",
    "    if rownumPIN<(Extract_text.shape[0]):\n",
    "        PIN1=Extract_text.iloc[rownumPIN,0]\n",
    "        if len(PIN)==0:\n",
    "            PIN.append(PIN1)\n",
    "print(PIN) "
   ]
  },
  {
   "cell_type": "markdown",
   "id": "b738eaad",
   "metadata": {},
   "source": [
    "# IOA"
   ]
  },
  {
   "cell_type": "code",
   "execution_count": 25,
   "id": "bbf32b0a",
   "metadata": {},
   "outputs": [
    {
     "name": "stdout",
     "output_type": "stream",
     "text": [
      "[]\n"
     ]
    }
   ],
   "source": [
    "patternIOA=['[A-Z]{2}\\d{2} \\d{7}','[A-Z]{2}-\\d{7}','[A-Z]{3}\\d{1}','[M][h]\\d{2}']\n",
    "IOA=[]\n",
    "count=1\n",
    "for i in Extract_text['Text'].tail(10):\n",
    "    for pat in patternIOA:\n",
    "        if re.findall(pat,i):\n",
    "            j=re.findall(pat,i)\n",
    "            if len(j)!=0:\n",
    "                IOA.append(j[0])\n",
    "    \n",
    "    \n",
    "            \n",
    "\n",
    "    \n",
    "rowIOA=Extract_text[(Extract_text['Text']=='Issuing Authorty') | (Extract_text['Text']=='Issuing Authority:') |(Extract_text['Text']=='Authorty')|(Extract_text['Text']=='Issuing Authonty:')].index\n",
    "if rowIOA!=0:\n",
    "    rnumberIOA=rowIOA[0]\n",
    "    rownumIOA=rnumberIOA+1\n",
    "    if rownumIOA<(Extract_text.shape[0]):\n",
    "        IOA1=Extract_text.iloc[rownumIOA,0]\n",
    "        if len(IOA)==0:\n",
    "            IOA.append(IOA1)\n",
    "print(IOA)"
   ]
  },
  {
   "cell_type": "code",
   "execution_count": 26,
   "id": "c6f2ec06",
   "metadata": {},
   "outputs": [
    {
     "data": {
      "text/html": [
       "<div>\n",
       "<style scoped>\n",
       "    .dataframe tbody tr th:only-of-type {\n",
       "        vertical-align: middle;\n",
       "    }\n",
       "\n",
       "    .dataframe tbody tr th {\n",
       "        vertical-align: top;\n",
       "    }\n",
       "\n",
       "    .dataframe thead th {\n",
       "        text-align: right;\n",
       "    }\n",
       "</style>\n",
       "<table border=\"1\" class=\"dataframe\">\n",
       "  <thead>\n",
       "    <tr style=\"text-align: right;\">\n",
       "      <th></th>\n",
       "      <th>Driving License</th>\n",
       "      <th>DOI</th>\n",
       "      <th>Valid Date</th>\n",
       "      <th>AED Date</th>\n",
       "      <th>DLR Date</th>\n",
       "      <th>MCWG</th>\n",
       "      <th>LMV</th>\n",
       "      <th>TRANS</th>\n",
       "      <th>DOB</th>\n",
       "      <th>Name</th>\n",
       "      <th>SDW</th>\n",
       "      <th>PIN</th>\n",
       "      <th>IOA</th>\n",
       "    </tr>\n",
       "  </thead>\n",
       "  <tbody>\n",
       "    <tr>\n",
       "      <th>0</th>\n",
       "      <td>MH:1220050000188</td>\n",
       "      <td>12-12-2005</td>\n",
       "      <td>11-12-2025</td>\n",
       "      <td>NaN</td>\n",
       "      <td>NaN</td>\n",
       "      <td>12-12-2005</td>\n",
       "      <td>NaN</td>\n",
       "      <td>NaN</td>\n",
       "      <td>12-05-1986</td>\n",
       "      <td>POOJA M PALANDE</td>\n",
       "      <td>MILIND PALANDE</td>\n",
       "      <td>411046</td>\n",
       "      <td>NaN</td>\n",
       "    </tr>\n",
       "  </tbody>\n",
       "</table>\n",
       "</div>"
      ],
      "text/plain": [
       "     Driving License          DOI  Valid Date AED Date DLR Date        MCWG  \\\n",
       "0   MH:1220050000188   12-12-2005  11-12-2025      NaN      NaN  12-12-2005   \n",
       "\n",
       "   LMV TRANS         DOB             Name             SDW     PIN  IOA  \n",
       "0  NaN   NaN  12-05-1986  POOJA M PALANDE  MILIND PALANDE  411046  NaN  "
      ]
     },
     "execution_count": 26,
     "metadata": {},
     "output_type": "execute_result"
    }
   ],
   "source": [
    "b=pd.DataFrame(DL10,columns=['Driving License'])\n",
    "c=pd.DataFrame(DOI1,columns=['DOI'])\n",
    "d=pd.DataFrame(valid_date,columns=['Valid Date'])\n",
    "e=pd.DataFrame(aed,columns=['AED Date'])\n",
    "f=pd.DataFrame(DLR,columns=['DLR Date'])\n",
    "g=pd.DataFrame(MCWG,columns=['MCWG'])\n",
    "h=pd.DataFrame(LMV,columns=['LMV'])\n",
    "i=pd.DataFrame(TRANS,columns=['TRANS'])\n",
    "j=pd.DataFrame(DOB,columns=['DOB'])\n",
    "k=pd.DataFrame(Name,columns=['Name'])\n",
    "l=pd.DataFrame(SDW,columns=['SDW'])\n",
    "m=pd.DataFrame(PIN,columns=['PIN'])\n",
    "n=pd.DataFrame(IOA,columns=['IOA'])\n",
    "o=pd.DataFrame(LMVKTR,columns=['LMV-TR'])\n",
    "Detail=pd.concat([b,c,d,e,f,g,h,i,j,k,l,m,n],axis=1)\n",
    "Detail"
   ]
  },
  {
   "cell_type": "code",
   "execution_count": null,
   "id": "3aaf0bb8",
   "metadata": {},
   "outputs": [],
   "source": []
  }
 ],
 "metadata": {
  "kernelspec": {
   "display_name": "Python 3 (ipykernel)",
   "language": "python",
   "name": "python3"
  },
  "language_info": {
   "codemirror_mode": {
    "name": "ipython",
    "version": 3
   },
   "file_extension": ".py",
   "mimetype": "text/x-python",
   "name": "python",
   "nbconvert_exporter": "python",
   "pygments_lexer": "ipython3",
   "version": "3.9.12"
  }
 },
 "nbformat": 4,
 "nbformat_minor": 5
}
